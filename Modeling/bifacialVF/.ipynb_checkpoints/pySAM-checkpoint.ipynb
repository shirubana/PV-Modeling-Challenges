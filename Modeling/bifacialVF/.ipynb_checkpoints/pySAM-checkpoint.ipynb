{
 "cells": [
  {
   "cell_type": "code",
   "execution_count": null,
   "id": "186e6e62",
   "metadata": {},
   "outputs": [],
   "source": [
    "import PySAM.Pvsamv1 as pv\n",
    "import PySAM\n",
    "import xlsxwriter\n",
    "import json\n",
    "import pandas as pd\n",
    "import os\n",
    "import pprint as pp\n"
   ]
  },
  {
   "cell_type": "code",
   "execution_count": null,
   "id": "e3f3948e",
   "metadata": {},
   "outputs": [],
   "source": [
    "PySAM.__version__"
   ]
  },
  {
   "cell_type": "code",
   "execution_count": null,
   "id": "4e1edc1c",
   "metadata": {},
   "outputs": [],
   "source": [
    "sam1 = pv.default(\"FlatPlatePVCommercial\")"
   ]
  },
  {
   "cell_type": "code",
   "execution_count": null,
   "id": "8c3a0dcf",
   "metadata": {},
   "outputs": [],
   "source": [
    "# Prism File\n",
    "S1file = os.path.join(Workingfolder,'S1.json')\n",
    "\n",
    "with open(Prismfile) as f:\n",
    "    dic = json.load(f)"
   ]
  }
 ],
 "metadata": {
  "kernelspec": {
   "display_name": "Python 3",
   "language": "python",
   "name": "python3"
  },
  "language_info": {
   "codemirror_mode": {
    "name": "ipython",
    "version": 3
   },
   "file_extension": ".py",
   "mimetype": "text/x-python",
   "name": "python",
   "nbconvert_exporter": "python",
   "pygments_lexer": "ipython3",
   "version": "3.8.8"
  }
 },
 "nbformat": 4,
 "nbformat_minor": 5
}
