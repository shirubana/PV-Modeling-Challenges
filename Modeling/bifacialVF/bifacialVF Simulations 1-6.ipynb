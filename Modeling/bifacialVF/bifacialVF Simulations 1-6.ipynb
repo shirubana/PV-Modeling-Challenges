{
 "cells": [
  {
   "cell_type": "markdown",
   "id": "cb8bfaa7",
   "metadata": {},
   "source": [
    "# bifacial VF Simulations 1-6\n",
    "\n",
    "For a view factor simulation, S1 equals S2 in parameters, so we are only doing it once.\n",
    "\n",
    "Modeling with bifacialVF the front (and rear where necessary) irradiances. Using pvlib functions to calculate module power output.\n",
    "\n",
    "Not considering losses at the moment.\n",
    "\n",
    "bifacialVF calculates electrical mismatch factors for bifacial systems (considers front and back). Therefore using them for bifacial systems only at the moment.\n"
   ]
  },
  {
   "cell_type": "code",
   "execution_count": 1,
   "id": "f0fca425",
   "metadata": {},
   "outputs": [],
   "source": [
    "import bifacialvf\n",
    "import numpy as np\n",
    "import pandas as pd\n",
    "import requests\n",
    "import pvlib\n",
    "import bifacial_radiance as br"
   ]
  },
  {
   "cell_type": "code",
   "execution_count": 2,
   "id": "ffe20616",
   "metadata": {},
   "outputs": [
    {
     "data": {
      "text/plain": [
       "'0.1.7-dev1+71.g202ed86.dirty'"
      ]
     },
     "execution_count": 2,
     "metadata": {},
     "output_type": "execute_result"
    }
   ],
   "source": [
    "# Print bifacialvf Version:\n",
    "bifacialvf.__version__"
   ]
  },
  {
   "cell_type": "code",
   "execution_count": 3,
   "id": "ef402b37",
   "metadata": {},
   "outputs": [
    {
     "name": "stdout",
     "output_type": "stream",
     "text": [
      "0.4.1+110.g5f9de36.dirty\n",
      "0.9.0\n"
     ]
    }
   ],
   "source": [
    "print(br.__version__)\n",
    "print(pvlib.__version__)\n",
    "#2021 run: 0.3.4+275.ga152a2e.dirty bifacial_radiance\n",
    "#2021 run: '0.1.7-dev1+33.gf02e57a' bifacialVf"
   ]
  },
  {
   "cell_type": "code",
   "execution_count": 4,
   "id": "e1a9502c",
   "metadata": {},
   "outputs": [
    {
     "data": {
      "text/plain": [
       "datetime.date(2022, 8, 30)"
      ]
     },
     "execution_count": 4,
     "metadata": {},
     "output_type": "execute_result"
    }
   ],
   "source": [
    "from datetime import date\n",
    "date.today()"
   ]
  },
  {
   "cell_type": "markdown",
   "id": "a9041186",
   "metadata": {},
   "source": [
    "# S1"
   ]
  },
  {
   "cell_type": "code",
   "execution_count": 5,
   "id": "003a9b26",
   "metadata": {},
   "outputs": [
    {
     "name": "stdout",
     "output_type": "stream",
     "text": [
      "Warning: hub_height passed and is being used as  clearance_height for the fixed_tilt routine.\n",
      "Calculating Sun position with a delta of -30 mins. i.e. 12 is 11:30 sunpos\n",
      "Using albedo from TMY3 file.\n",
      "Note that at the moment, no validation check is done in the albedo data, so we assume it's correct and valid.\n",
      "\n",
      " \n",
      "********* \n",
      "Running Simulation for TMY3: \n",
      "Location:    ABQ\n",
      "Lat:  35.05  Long:  -106.64  Tz  -7.0\n",
      "Parameters: tilt:  35   Sazm:  180     Clearance_Height :  0.75   Pitch:  2.85   Row type:  single   Albedo:  None\n",
      "Saving into bifacialVF_S1.csv\n",
      " \n",
      " \n",
      "Distance between rows for no shading on Dec 21 at 9 am solar time =  1.3007254727927073\n",
      "Actual distance between rows =  2.030847955711008\n",
      " \n"
     ]
    },
    {
     "name": "stderr",
     "output_type": "stream",
     "text": [
      "  0%|                                                                                         | 0/8760 [00:00<?, ?it/s]c:\\users\\sayala\\documents\\github\\bifacialvf\\bifacialvf\\vf.py:640: RuntimeWarning: divide by zero encountered in double_scalars\n",
      "  projectedX1 = PcellX - np.float64(PcellY) / math.tan(startElvDown);      # Projection of ElvDown to ground in -x direction\n",
      "c:\\users\\sayala\\documents\\github\\bifacialvf\\bifacialvf\\vf.py:300: RuntimeWarning: divide by zero encountered in double_scalars\n",
      "  projectedX2 = PcellX + np.float64(PcellY) / math.tan(startElvDown);      # Projection of ElvDown to ground in +x direction (X1 and X2 opposite nomenclature for front irradiance method)\n",
      "100%|█████████████████████████████████████████████████████████████████████████████| 8760/8760 [00:25<00:00, 347.26it/s]\n"
     ]
    },
    {
     "name": "stdout",
     "output_type": "stream",
     "text": [
      "starting\n",
      "Time elapsed for calculating PVMismatch Output  113.68573117256165\n",
      "ending\n",
      "The DC Power Mismatch loss for the year is of: 0.000%\n",
      "The detailed irradiance power is: 546735.0 W\n",
      "The average irradinace power is: 546735.0 W\n",
      "Finished\n"
     ]
    }
   ],
   "source": [
    "TMYtoread='../TMY3_Albuquerque_NM.csv'\n",
    "writefiletitle='bifacialVF_S1.csv'\n",
    "\n",
    "# Variables\n",
    "tilt = 35                   # PV tilt (deg)\n",
    "sazm = 180                  # PV Azimuth(deg) or tracker axis direction\n",
    "albedo = None               # Use weather file albedo\n",
    "CW = 2                      # 2 modules in landscape. No spacing between modules provided.\n",
    "hub_height = 1.5/2          # Hub height Normalized by collector width\n",
    "pitch = 5.7/2               # row to row spacing in normalized panel lengths. \n",
    "rowType = \"single\"          # RowType(first interior last single)\n",
    "transFactor = 0             # TransmissionFactor(open area fraction)\n",
    "sensorsy = 6                # sensorsy  \n",
    "PVfrontSurface = \"glass\"    # PVfrontSurface(glass or ARglass)\n",
    "PVbackSurface = \"glass\"     # PVbackSurface(glass or ARglass)\n",
    "\n",
    "# Calculate PV Output Through Various Methods    \n",
    "calculateBilInterpol = False   \n",
    "calculatePVMismatch = True\n",
    "portraitorlandscape='landscape'   # portrait or landscape\n",
    "cellsnum = 72\n",
    "bififactor = 0.0\n",
    "\n",
    "deltastyle='TMY3'\n",
    "\n",
    "# Tracking instructions\n",
    "tracking=False\n",
    "backtrack=False\n",
    "limit_angle = 60\n",
    "\n",
    "deltastyle='TMY3'\n",
    "\n",
    "myTMY3, meta = bifacialvf.bifacialvf.readInputTMY(TMYtoread)\n",
    "\n",
    "bifacialvf.simulate(myTMY3, meta, writefiletitle=writefiletitle, \n",
    "         tilt=tilt, sazm=sazm, pitch=pitch, hub_height=hub_height, \n",
    "         rowType=rowType, transFactor=transFactor, sensorsy=sensorsy, \n",
    "         PVfrontSurface=PVfrontSurface, PVbackSurface=PVbackSurface, \n",
    "         albedo=albedo, tracking=tracking, backtrack=backtrack, \n",
    "         limit_angle=limit_angle, calculatePVMismatch=calculatePVMismatch,\n",
    "         cellsnum = cellsnum, bififactor=bififactor,\n",
    "         calculateBilInterpol=calculateBilInterpol,\n",
    "         portraitorlandscape=portraitorlandscape, deltastyle=deltastyle)"
   ]
  },
  {
   "cell_type": "markdown",
   "id": "60a5707d",
   "metadata": {},
   "source": [
    "# S3"
   ]
  },
  {
   "cell_type": "code",
   "execution_count": 6,
   "id": "742351d5",
   "metadata": {},
   "outputs": [
    {
     "name": "stdout",
     "output_type": "stream",
     "text": [
      "Calculating Sun position with a delta of -30 mins. i.e. 12 is 11:30 sunpos\n",
      "Using albedo from TMY3 file.\n",
      "Note that at the moment, no validation check is done in the albedo data, so we assume it's correct and valid.\n",
      "\n",
      " \n",
      "********* \n",
      "Running Simulation for TMY3: \n",
      "Location:    Roskilde\n",
      "Lat:  55.696  Long:  12.104  Tz  1.0\n",
      "Parameters: tilt:  0   Sazm:  180     Hub_Height :  0.5629265250978627   Pitch:  3.4641632313714625   Row type:  interior   Albedo:  None\n",
      "Saving into bifacialVF_S3.csv\n",
      " \n",
      " \n",
      "Distance between rows for no shading on Dec 21 at 9 am solar time =  0.0\n",
      "Actual distance between rows =  2.4641632313714625\n",
      " \n",
      " ***** IMPORTANT --> THIS SIMULATION Has Tracking Activated\n",
      "Backtracking Option is set to:  True\n"
     ]
    },
    {
     "name": "stderr",
     "output_type": "stream",
     "text": [
      "100%|█████████████████████████████████████████████████████████████████████████████| 8760/8760 [00:58<00:00, 148.98it/s]\n"
     ]
    },
    {
     "name": "stdout",
     "output_type": "stream",
     "text": [
      "starting\n",
      "Time elapsed for calculating PVMismatch Output  137.78869080543518\n",
      "ending\n",
      "The DC Power Mismatch loss for the year is of: 0.068%\n",
      "The detailed irradiance power is: 320706.8 W\n",
      "The average irradinace power is: 320924.3 W\n",
      "Finished\n"
     ]
    }
   ],
   "source": [
    "TMYtoread='../TMY3_Roskilde_DK.csv'\n",
    "writefiletitle='bifacialVF_S3.csv'\n",
    "\n",
    "# Variables\n",
    "tilt = None                   # PV tilt (deg)\n",
    "sazm = 180                    # PV Azimuth(deg) or tracker axis direction\n",
    "albedo = None                 # Use weather file albedo\n",
    "CW = 3.46404                  # 2 modules of ~1.65952m in portrait with 14.5cm of spacing between modules (ygap).\n",
    "hub_height = 1.95/CW          # Hub height normalized by collector width\n",
    "pitch = 12/CW                 # Row to row spacing in normalized panel lengths. \n",
    "rowType = \"interior\"          # RowType(first interior last single)\n",
    "transFactor = 0.04            # TransmissionFactor(open area fraction)\n",
    "sensorsy = 12                 # sensorsy\n",
    "PVfrontSurface = \"glass\"      # PVfrontSurface(glass or ARglass)\n",
    "PVbackSurface = \"glass\"       # PVbackSurface(glass or ARglass)\n",
    "\n",
    "# Calculate PV Output Through Various Methods    \n",
    "calculateBilInterpol = False     \n",
    "calculatePVMismatch = True\n",
    "portraitorlandscape='portrait'   # portrait or landscape\n",
    "cellsnum = 72\n",
    "bififactor = 0\n",
    "\n",
    "# Tracking instructions\n",
    "tracking=True\n",
    "backtrack=True\n",
    "limit_angle = 60\n",
    "\n",
    "deltastyle='TMY3'\n",
    "\n",
    "myTMY3, meta = bifacialvf.bifacialvf.readInputTMY(TMYtoread)\n",
    "\n",
    "bifacialvf.simulate(myTMY3, meta, writefiletitle=writefiletitle, \n",
    "         tilt=tilt, sazm=sazm, pitch=pitch, hub_height=hub_height, \n",
    "         rowType=rowType, transFactor=transFactor, sensorsy=sensorsy, \n",
    "         PVfrontSurface=PVfrontSurface, PVbackSurface=PVbackSurface, \n",
    "         albedo=albedo, tracking=tracking, backtrack=backtrack, \n",
    "         limit_angle=limit_angle, calculatePVMismatch=calculatePVMismatch,\n",
    "         cellsnum = cellsnum, bififactor=bififactor,\n",
    "         calculateBilInterpol=calculateBilInterpol,\n",
    "         portraitorlandscape=portraitorlandscape, deltastyle=deltastyle)"
   ]
  },
  {
   "cell_type": "markdown",
   "id": "de48b618",
   "metadata": {},
   "source": [
    "# S4"
   ]
  },
  {
   "cell_type": "code",
   "execution_count": 7,
   "id": "67030792",
   "metadata": {},
   "outputs": [
    {
     "name": "stdout",
     "output_type": "stream",
     "text": [
      "Calculating Sun position with a delta of -30 mins. i.e. 12 is 11:30 sunpos\n",
      "Using albedo from TMY3 file.\n",
      "Note that at the moment, no validation check is done in the albedo data, so we assume it's correct and valid.\n",
      "\n",
      " \n",
      "********* \n",
      "Running Simulation for TMY3: \n",
      "Location:    Roskilde\n",
      "Lat:  55.696  Long:  12.104  Tz  1.0\n",
      "Parameters: tilt:  0   Sazm:  180     Hub_Height :  0.5580005837544568   Pitch:  3.433849746181273   Row type:  interior   Albedo:  None\n",
      "Saving into bifacialVF_S4.csv\n",
      " \n",
      " \n",
      "Distance between rows for no shading on Dec 21 at 9 am solar time =  0.0\n",
      "Actual distance between rows =  2.433849746181273\n",
      " \n",
      " ***** IMPORTANT --> THIS SIMULATION Has Tracking Activated\n",
      "Backtracking Option is set to:  True\n"
     ]
    },
    {
     "name": "stderr",
     "output_type": "stream",
     "text": [
      "100%|█████████████████████████████████████████████████████████████████████████████| 8760/8760 [00:57<00:00, 151.61it/s]\n"
     ]
    },
    {
     "name": "stdout",
     "output_type": "stream",
     "text": [
      "starting\n",
      "Time elapsed for calculating PVMismatch Output  136.81681513786316\n",
      "ending\n",
      "The DC Power Mismatch loss for the year is of: 0.153%\n",
      "The detailed irradiance power is: 337939.2 W\n",
      "The average irradinace power is: 338456.3 W\n",
      "Finished\n"
     ]
    }
   ],
   "source": [
    "TMYtoread='../TMY3_Roskilde_DK.csv'\n",
    "writefiletitle='bifacialVF_S4.csv'\n",
    "\n",
    "# Variables\n",
    "tilt = None                 # PV tilt (deg)\n",
    "sazm = 180                  # PV Azimuth(deg) or tracker axis direction\n",
    "albedo = None               # Use weather file albedo\n",
    "CW = 3.49462                # 2 modules of ~1.67481m in portrait with 14.5cm of spacing between modules (ygap).\n",
    "hub_height = 1.95/CW        # Hub height Normalized by collector width\n",
    "pitch = 12/CW               # row to row spacing in normalized panel lengths. \n",
    "rowType = \"interior\"        # RowType(first interior last single)\n",
    "transFactor = 0.04          # TransmissionFactor(open area fraction)\n",
    "sensorsy = 12               # sensorsy\n",
    "PVfrontSurface = \"glass\"    # PVfrontSurface(glass or ARglass)\n",
    "PVbackSurface = \"glass\"     # PVbackSurface(glass or ARglass)\n",
    "\n",
    "# Calculate PV Output Through Various Methods    \n",
    "calculateBilInterpol = False   \n",
    "calculatePVMismatch = True\n",
    "portraitorlandscape='portrait'   # portrait or landscape\n",
    "cellsnum = 72\n",
    "bififactor = 0.65\n",
    "\n",
    "# Tracking instructions\n",
    "tracking=True\n",
    "backtrack=True\n",
    "limit_angle = 60\n",
    "\n",
    "deltastyle='TMY3'\n",
    "\n",
    "myTMY3, meta = bifacialvf.bifacialvf.readInputTMY(TMYtoread)\n",
    "\n",
    "bifacialvf.simulate(myTMY3, meta, writefiletitle=writefiletitle, \n",
    "         tilt=tilt, sazm=sazm, pitch=pitch, hub_height=hub_height, \n",
    "         rowType=rowType, transFactor=transFactor, sensorsy=sensorsy, \n",
    "         PVfrontSurface=PVfrontSurface, PVbackSurface=PVbackSurface, \n",
    "         albedo=albedo, tracking=tracking, backtrack=backtrack, \n",
    "         limit_angle=limit_angle, calculatePVMismatch=calculatePVMismatch,\n",
    "         cellsnum = cellsnum, bififactor=bififactor,\n",
    "         calculateBilInterpol=calculateBilInterpol,\n",
    "         portraitorlandscape=portraitorlandscape, deltastyle=deltastyle)"
   ]
  },
  {
   "cell_type": "markdown",
   "id": "0c71758a",
   "metadata": {},
   "source": [
    "# S5"
   ]
  },
  {
   "cell_type": "code",
   "execution_count": 8,
   "id": "877d8bc1",
   "metadata": {},
   "outputs": [
    {
     "name": "stdout",
     "output_type": "stream",
     "text": [
      "Calculating Sun position with a delta of -30 mins. i.e. 12 is 11:30 sunpos\n",
      "Using albedo from TMY3 file.\n",
      "Note that at the moment, no validation check is done in the albedo data, so we assume it's correct and valid.\n",
      "\n",
      " \n",
      "********* \n",
      "Running Simulation for TMY3: \n",
      "Location:    Roskilde\n",
      "Lat:  55.696  Long:  12.104  Tz  1.0\n",
      "Parameters: tilt:  25   Sazm:  180     Clearance_Height :  0.4526554883892796   Pitch:  2.1939700465352594   Row type:  interior   Albedo:  None\n",
      "Saving into bifacialVF_S5.csv\n",
      " \n",
      " \n",
      "Distance between rows for no shading on Dec 21 at 9 am solar time =  8.196792947340638\n",
      "Actual distance between rows =  1.2876622594986094\n",
      " \n"
     ]
    },
    {
     "name": "stderr",
     "output_type": "stream",
     "text": [
      "100%|█████████████████████████████████████████████████████████████████████████████| 8760/8760 [00:55<00:00, 157.44it/s]\n"
     ]
    },
    {
     "name": "stdout",
     "output_type": "stream",
     "text": [
      "starting\n",
      "Time elapsed for calculating PVMismatch Output  140.6026360988617\n",
      "ending\n",
      "The DC Power Mismatch loss for the year is of: 2.119%\n",
      "The detailed irradiance power is: 265958.7 W\n",
      "The average irradinace power is: 271716.3 W\n",
      "Finished\n"
     ]
    }
   ],
   "source": [
    "TMYtoread='../TMY3_Roskilde_DK.csv'\n",
    "writefiletitle='bifacialVF_S5.csv'\n",
    "\n",
    "# Variables\n",
    "tilt = 25                   # PV tilt (deg)\n",
    "sazm = 180                  # PV Azimuth(deg) or tracker axis direction\n",
    "albedo = None               # Use weather file albedo\n",
    "CW = 3.46404                # 2 modules of ~1.65952m in portrait with 14.5cm of spacing between modules (ygap).\n",
    "clearance_height = 1.568016718/CW         # clearance height Normalized by collector width\n",
    "pitch = 7.6/CW              # row to row spacing in normalized panel lengths. \n",
    "rowType = \"interior\"        # RowType(first interior last single)\n",
    "transFactor = 0.04          # TransmissionFactor(open area fraction)\n",
    "sensorsy = 12               # sensorsy\n",
    "PVfrontSurface = \"glass\"    # PVfrontSurface(glass or ARglass)\n",
    "PVbackSurface = \"glass\"     # PVbackSurface(glass or ARglass)\n",
    "\n",
    "# Calculate PV Output Through Various Methods    \n",
    "calculateBilInterpol = False      # Only works with landscape at the moment.\n",
    "calculatePVMismatch = True\n",
    "portraitorlandscape='portrait'   # portrait or landscape\n",
    "cellsnum = 72\n",
    "bififactor = 0.0\n",
    "\n",
    "# Tracking instructions\n",
    "tracking=False\n",
    "backtrack=False\n",
    "limit_angle = 60\n",
    "\n",
    "deltastyle='TMY3'\n",
    "\n",
    "myTMY3, meta = bifacialvf.bifacialvf.readInputTMY(TMYtoread)\n",
    "\n",
    "bifacialvf.simulate(myTMY3, meta, writefiletitle=writefiletitle, \n",
    "         tilt=tilt, sazm=sazm, pitch=pitch, clearance_height=clearance_height, \n",
    "         rowType=rowType, transFactor=transFactor, sensorsy=sensorsy, \n",
    "         PVfrontSurface=PVfrontSurface, PVbackSurface=PVbackSurface, \n",
    "         albedo=albedo, tracking=tracking, backtrack=backtrack, \n",
    "         limit_angle=limit_angle, calculatePVMismatch=calculatePVMismatch,\n",
    "         cellsnum = cellsnum, bififactor=bififactor,\n",
    "         calculateBilInterpol=calculateBilInterpol,\n",
    "         portraitorlandscape=portraitorlandscape, deltastyle=deltastyle)"
   ]
  },
  {
   "cell_type": "markdown",
   "id": "b5f8b067",
   "metadata": {},
   "source": [
    "# S6"
   ]
  },
  {
   "cell_type": "code",
   "execution_count": 9,
   "id": "e9e1b791",
   "metadata": {},
   "outputs": [
    {
     "name": "stdout",
     "output_type": "stream",
     "text": [
      "Calculating Sun position with a delta of -30 mins. i.e. 12 is 11:30 sunpos\n",
      "Using albedo from TMY3 file.\n",
      "Note that at the moment, no validation check is done in the albedo data, so we assume it's correct and valid.\n",
      "\n",
      " \n",
      "********* \n",
      "Running Simulation for TMY3: \n",
      "Location:    Roskilde\n",
      "Lat:  55.696  Long:  12.104  Tz  1.0\n",
      "Parameters: tilt:  25   Sazm:  180     Clearance_Height :  0.4468454037921148   Pitch:  2.1747715059148063   Row type:  interior   Albedo:  None\n",
      "Saving into bifacialVF_S6.csv\n",
      " \n",
      " \n",
      "Distance between rows for no shading on Dec 21 at 9 am solar time =  8.196792947340638\n",
      "Actual distance between rows =  1.2684637188781562\n",
      " \n"
     ]
    },
    {
     "name": "stderr",
     "output_type": "stream",
     "text": [
      "100%|█████████████████████████████████████████████████████████████████████████████| 8760/8760 [00:54<00:00, 159.78it/s]\n"
     ]
    },
    {
     "name": "stdout",
     "output_type": "stream",
     "text": [
      "starting\n",
      "Time elapsed for calculating PVMismatch Output  137.79847478866577\n",
      "ending\n",
      "The DC Power Mismatch loss for the year is of: 2.100%\n",
      "The detailed irradiance power is: 281870.8 W\n",
      "The average irradinace power is: 287916.9 W\n",
      "Finished\n"
     ]
    }
   ],
   "source": [
    "TMYtoread='../TMY3_Roskilde_DK.csv'\n",
    "writefiletitle='bifacialVF_S6.csv'\n",
    "\n",
    "# Variables\n",
    "tilt = 25                   # PV tilt (deg)\n",
    "sazm = 180                  # PV Azimuth(deg) or tracker axis direction\n",
    "albedo = None               # Use weather file albedo\n",
    "CW = 3.49462                # 2 modules of ~1.67481m in portrait with 14.5cm of spacing between modules (ygap).\n",
    "clearance_height = 1.561554885/CW         # Hclearance_height Normalized by collector width\n",
    "pitch = 7.6/CW              # row to row spacing in normalized panel lengths. \n",
    "rowType = \"interior\"        # RowType(first interior last single)\n",
    "transFactor = 0.04             # TransmissionFactor(open area fraction)\n",
    "sensorsy = 12               # sensorsy\n",
    "PVfrontSurface = \"glass\"    # PVfrontSurface(glass or ARglass)\n",
    "PVbackSurface = \"glass\"     # PVbackSurface(glass or ARglass)\n",
    "\n",
    "# Calculate PV Output Through Various Methods    \n",
    "calculateBilInterpol = False  \n",
    "calculatePVMismatch = True\n",
    "portraitorlandscape='portrait'   # portrait or landscape\n",
    "cellsnum = 72\n",
    "bififactor = 0.65\n",
    "\n",
    "# Tracking instructions\n",
    "tracking=False\n",
    "backtrack=False\n",
    "limit_angle = 60\n",
    "\n",
    "deltastyle='TMY3'\n",
    "\n",
    "myTMY3, meta = bifacialvf.bifacialvf.readInputTMY(TMYtoread)\n",
    "\n",
    "bifacialvf.simulate(myTMY3, meta, writefiletitle=writefiletitle, \n",
    "         tilt=tilt, sazm=sazm, pitch=pitch, clearance_height=clearance_height, \n",
    "         rowType=rowType, transFactor=transFactor, sensorsy=sensorsy, \n",
    "         PVfrontSurface=PVfrontSurface, PVbackSurface=PVbackSurface, \n",
    "         albedo=albedo, tracking=tracking, backtrack=backtrack, \n",
    "         limit_angle=limit_angle, calculatePVMismatch=calculatePVMismatch,\n",
    "         cellsnum = cellsnum, bififactor=bififactor,\n",
    "         calculateBilInterpol=calculateBilInterpol,\n",
    "         portraitorlandscape=portraitorlandscape, deltastyle=deltastyle)"
   ]
  },
  {
   "cell_type": "markdown",
   "id": "1fb9f7e9",
   "metadata": {},
   "source": [
    "# Compile Results for Front and Rear Irradiance Averages"
   ]
  },
  {
   "cell_type": "code",
   "execution_count": 10,
   "id": "821f762d",
   "metadata": {},
   "outputs": [],
   "source": [
    "def mad_fn(data):\n",
    "    from numpy import mean, absolute\n",
    "    # EUPVSEC 2019 Chris Version\n",
    "    # return MAD / Average for a 1D array. Returned as a fraction, not percent\n",
    "    data = np.array(data) #cdeline included 11/13/20    return np.abs(np.subtract.outer(data,data)).sum()/data.__len__()**2 / mean(data)\n",
    "\n",
    "    \n",
    "def vf_LoadAdd(bifacialvf_resultsfile, bifaciality=0.65):\n",
    "    '''\n",
    "    vf_LoadAdd(df)\n",
    "    subroutine to calculate POA_X (total POA) for each cell\n",
    "    \n",
    "    inputs:  bifacialvf_resultsfile  (vf results.csv file).  \n",
    "    '''\n",
    "    \n",
    "    (df, meta) = bifacialvf.loadVFresults(bifacialvf_resultsfile)\n",
    "    \n",
    "    df_filter2 = [col for col in df if col.endswith('_RowFrontGTI')]\n",
    "    df_filter3 = [col for col in df if col.endswith('_RowBackGTI')]\n",
    "    \n",
    "    nCells = df_filter2.__len__()  #nCells: number of cells in the scan\n",
    "    \n",
    "    df['Grear']=df[df_filter3].sum(axis=1)/nCells\n",
    "    df['Gfront']=df[df_filter2].sum(axis=1)/nCells\n",
    "\n",
    "    for i in range(1,nCells+1):            \n",
    "        # Calculating Standard Deviation of POA 'Total_stdev/POA':'stdev'\n",
    "        df['POA_'+str(i)]=df['No_'+str(i)+'_RowFrontGTI']+df['No_'+str(i)+'_RowBackGTI']\n",
    "    \n",
    "    df_filter = [col for col in df if col.startswith('POA_')]\n",
    "    df_GTI = df[df_filter]\n",
    "\n",
    "    # Calculate 'Total_POA_avg': poat\n",
    "    df['Poat']=df_GTI.sum(axis=1)/nCells\n",
    "    df['stdev'] = df_GTI.std(axis=1)/df['Poat']*100\n",
    "    df['MAD_Total/G_Total'] = df_GTI.apply(mad_fn,axis=1)*100\n",
    "    df['MAD_Total/G_Total**2'] = df['MAD_Total/G_Total']**2\n",
    "\n",
    "    #df['datetime'] = pd.to_datetime({'Year':df['Year'], 'Month':df['Month'], 'Day':df['Day'], 'Hour':df['Hour'], \n",
    "    #                                 'Minute':df['Minute']})\n",
    "    df = df.set_index(pd.DatetimeIndex(df.date)) # use first column of df for index.  .iloc[:,0]\n",
    "    return df, meta"
   ]
  },
  {
   "cell_type": "code",
   "execution_count": 11,
   "id": "779825a8",
   "metadata": {},
   "outputs": [],
   "source": [
    "# Load\n",
    "(bvf1, metadata_bvf1) = vf_LoadAdd('bifacialVF_S1.csv')\n",
    "#(bvf2, metadata_bvf2) = vf_LoadAdd('bifacialVF_S2.csv')\n",
    "(bvf3, metadata_bvf3) = vf_LoadAdd('bifacialVF_S3.csv')\n",
    "(bvf4, metadata_bvf4) = vf_LoadAdd('bifacialVF_S4.csv')\n",
    "(bvf5, metadata_bvf5) = vf_LoadAdd('bifacialVF_S5.csv')\n",
    "(bvf6, metadata_bvf6) = vf_LoadAdd('bifacialVF_S6.csv')\n"
   ]
  },
  {
   "cell_type": "markdown",
   "id": "b831d0ae",
   "metadata": {},
   "source": [
    "#### Bringing the METEO data to align data with original hours, because bifacialVF only reports back non-zero rows"
   ]
  },
  {
   "cell_type": "code",
   "execution_count": 12,
   "id": "d30fe398",
   "metadata": {},
   "outputs": [],
   "source": [
    "rsk = pd.read_excel('..\\..\\Roskilde_DK_meteo.xlsx', skiprows=2)\n",
    "rsk = rsk.iloc[: , :-1] # Dropping the last column because it was saved as Unnamed due to being some white space on the xlsx\n",
    "realtimestamps = pd.to_datetime(rsk[['Year','Month','Day','Hour']])\n",
    "rsk['Year'] = 2019\n",
    "timestamps = pd.to_datetime(rsk[['Year','Month','Day','Hour']])\n",
    "rsk.index = timestamps\n",
    "rsk=rsk.tz_localize('ETC/GMT-1')\n",
    "rsk['RSK_Timestamp'] = realtimestamps.values"
   ]
  },
  {
   "cell_type": "code",
   "execution_count": 13,
   "id": "b68dd482",
   "metadata": {},
   "outputs": [],
   "source": [
    "abq = pd.read_excel('..\\..\\Albuquerque_NM_meteo.xlsx', skiprows=2)\n",
    "abq = abq.iloc[: , :-1] # Dropping the last column because it was saved as Unnamed due to being some white space on the xlsx\n",
    "abq['Year'] = 2019\n",
    "timestamps = pd.to_datetime(abq[['Year','Month','Day','Hour']])\n",
    "abq.index = timestamps\n",
    "abq=abq.tz_localize('ETC/GMT+7')\n",
    "abq['ABQ_Timestamp'] = abq.index"
   ]
  },
  {
   "cell_type": "code",
   "execution_count": 14,
   "id": "9cc0d3b2",
   "metadata": {},
   "outputs": [],
   "source": [
    "bvf1 = pd.concat([abq, bvf1], axis=1)\n",
    "bvf3 = pd.concat([rsk, bvf3], axis=1)\n",
    "bvf4 = pd.concat([rsk, bvf4], axis=1)\n",
    "bvf5 = pd.concat([rsk, bvf5], axis=1)\n",
    "bvf6 = pd.concat([rsk, bvf6], axis=1)"
   ]
  },
  {
   "cell_type": "code",
   "execution_count": 15,
   "id": "6c6a773f",
   "metadata": {},
   "outputs": [
    {
     "name": "stdout",
     "output_type": "stream",
     "text": [
      "weather file 978.551782226562\n",
      "results 978.551782226562\n"
     ]
    }
   ],
   "source": [
    "# Checking Alignment\n",
    "print('weather file', bvf1['DNI (W/m2)'][10])\n",
    "print('results', bvf1['DNI'][10])"
   ]
  },
  {
   "cell_type": "code",
   "execution_count": 16,
   "id": "b7aac156",
   "metadata": {},
   "outputs": [],
   "source": [
    "# Reseting index so we can do one single DF with all results\n",
    "#bvf1 = bvf1.rename_axis('ABQ_Timestamp')\n",
    "bvf1 = bvf1.reset_index(drop=True)\n",
    "\n",
    "#bvf3 = bvf3.rename_axis('RSK_Timestamp')\n",
    "bvf3 = bvf3.reset_index(drop=True)\n",
    "bvf4 = bvf4.reset_index(drop=True)\n",
    "bvf5 = bvf5.reset_index(drop=True)\n",
    "bvf6 = bvf6.reset_index(drop=True)"
   ]
  },
  {
   "cell_type": "markdown",
   "id": "d3c509e8",
   "metadata": {},
   "source": [
    "### Saving one dataframe with desired results to report"
   ]
  },
  {
   "cell_type": "code",
   "execution_count": 17,
   "id": "ec86f6f7",
   "metadata": {},
   "outputs": [],
   "source": [
    "df=pd.DataFrame()"
   ]
  },
  {
   "cell_type": "code",
   "execution_count": 18,
   "id": "078c2aa0",
   "metadata": {},
   "outputs": [],
   "source": [
    "bifacialityfactor = 0.65"
   ]
  },
  {
   "cell_type": "code",
   "execution_count": 19,
   "id": "30a90334",
   "metadata": {},
   "outputs": [
    {
     "data": {
      "text/plain": [
       "Index(['Year', 'Month', 'Day', 'Hour', 'GHI (W/m2)', 'DNI (W/m2)',\n",
       "       'DHI (W/m2)', 'Ambient Temp (°C) ', 'Relative Humidity (%)',\n",
       "       'ABQ_Timestamp', 'date', 'DNI', 'DHI', 'albedo', 'decHRs', 'ghi', 'inc',\n",
       "       'zen', 'azm', 'pvFrontSH', 'aveFrontGroundGHI', 'GTIfrontBroadBand',\n",
       "       'pvBackSH', 'aveBackGroundGHI', 'GTIbackBroadBand', 'maxShadow', 'Tamb',\n",
       "       'VWind', 'No_1_RowFrontGTI', 'No_2_RowFrontGTI', 'No_3_RowFrontGTI',\n",
       "       'No_4_RowFrontGTI', 'No_5_RowFrontGTI', 'No_6_RowFrontGTI',\n",
       "       'No_1_RowBackGTI', 'No_2_RowBackGTI', 'No_3_RowBackGTI',\n",
       "       'No_4_RowBackGTI', 'No_5_RowBackGTI', 'No_6_RowBackGTI', 'Grear',\n",
       "       'Gfront', 'POA_1', 'POA_2', 'POA_3', 'POA_4', 'POA_5', 'POA_6', 'Poat',\n",
       "       'stdev', 'MAD_Total/G_Total', 'MAD_Total/G_Total**2'],\n",
       "      dtype='object')"
      ]
     },
     "execution_count": 19,
     "metadata": {},
     "output_type": "execute_result"
    }
   ],
   "source": [
    "bvf1.keys()"
   ]
  },
  {
   "cell_type": "code",
   "execution_count": 21,
   "id": "41a90e2a",
   "metadata": {},
   "outputs": [
    {
     "data": {
      "text/plain": [
       "Index(['Year', 'Month', 'Day', 'Hour', 'GHI (W/m2)', 'DNI (W/m2)',\n",
       "       'DHI (W/m2)', 'Ambient Temp (°C) ', 'Relative Humidity (%)',\n",
       "       'RSK_Timestamp', 'date', 'DNI', 'DHI', 'albedo', 'decHRs', 'ghi', 'inc',\n",
       "       'zen', 'azm', 'pvFrontSH', 'aveFrontGroundGHI', 'GTIfrontBroadBand',\n",
       "       'pvBackSH', 'aveBackGroundGHI', 'GTIbackBroadBand', 'maxShadow', 'Tamb',\n",
       "       'VWind', 'No_1_RowFrontGTI', 'No_2_RowFrontGTI', 'No_3_RowFrontGTI',\n",
       "       'No_4_RowFrontGTI', 'No_5_RowFrontGTI', 'No_6_RowFrontGTI',\n",
       "       'No_7_RowFrontGTI', 'No_8_RowFrontGTI', 'No_9_RowFrontGTI',\n",
       "       'No_10_RowFrontGTI', 'No_11_RowFrontGTI', 'No_12_RowFrontGTI',\n",
       "       'No_1_RowBackGTI', 'No_2_RowBackGTI', 'No_3_RowBackGTI',\n",
       "       'No_4_RowBackGTI', 'No_5_RowBackGTI', 'No_6_RowBackGTI',\n",
       "       'No_7_RowBackGTI', 'No_8_RowBackGTI', 'No_9_RowBackGTI',\n",
       "       'No_10_RowBackGTI', 'No_11_RowBackGTI', 'No_12_RowBackGTI', 'tilt',\n",
       "       'sazm', 'height', 'D', 'Grear', 'Gfront', 'POA_1', 'POA_2', 'POA_3',\n",
       "       'POA_4', 'POA_5', 'POA_6', 'POA_7', 'POA_8', 'POA_9', 'POA_10',\n",
       "       'POA_11', 'POA_12', 'Poat', 'stdev', 'MAD_Total/G_Total',\n",
       "       'MAD_Total/G_Total**2'],\n",
       "      dtype='object')"
      ]
     },
     "execution_count": 21,
     "metadata": {},
     "output_type": "execute_result"
    }
   ],
   "source": [
    "bvf3.keys()"
   ]
  },
  {
   "cell_type": "code",
   "execution_count": 23,
   "id": "2b1df539",
   "metadata": {},
   "outputs": [],
   "source": [
    "df['ABQ_Timestamp'] = bvf1['ABQ_Timestamp']\n",
    "df['ABQ_DNI'] = bvf1['DNI']\n",
    "df['ABQ_TEMP'] = bvf1['Ambient Temp (°C) ']\n",
    "df['ABQ_WSPD'] = bvf1['VWind']# Wind Speed (m/s)']\n",
    "df['S1_Gfront'] = bvf1['Gfront']\n",
    "df['S2_Gfront'] = bvf1['Gfront']\n",
    "\n",
    "df['RSK_Timestamp'] = bvf3['RSK_Timestamp']\n",
    "df['RSK_DNI'] = bvf3['DNI']\n",
    "df['RSK_TEMP'] = bvf3['Ambient Temp (°C) ']\n",
    "df['RSK_WSPD'] = bvf3['VWind'] # Wind Speed (m/s)']\n",
    "df['S3_Gfront'] = bvf3['Gfront']\n",
    "df['S4_Gfront'] = bvf4['Gfront']\n",
    "df['S4_Grear'] = bvf4['Grear']\n",
    "df['S4_GPOAeff'] = df['S4_Gfront'] + df['S4_Grear']*bifacialityfactor \n",
    "df['S5_Gfront'] = bvf5['Gfront']\n",
    "df['S6_Gfront'] = bvf6['Gfront']\n",
    "df['S6_Grear'] = bvf6['Grear']\n",
    "df['S6_GPOAeff'] = df['S6_Gfront'] + df['S6_Grear']*bifacialityfactor \n"
   ]
  },
  {
   "cell_type": "markdown",
   "id": "a696262c",
   "metadata": {},
   "source": [
    "* S1 = SANYO ELECTRIC CO LTD OF PANASONIC GROUP VBHN325SA16\n",
    "* S2 = Canadian Solar Inc. CS6K-275M\n",
    "* S35 = Trina Solar TSM-305DD05A.05(II)\n",
    "* S46 = Trina Solar TSM-295DEG5C.07(II)\n",
    "\n",
    "    "
   ]
  },
  {
   "cell_type": "markdown",
   "id": "2e1956ba",
   "metadata": {},
   "source": [
    "# Calculate Power "
   ]
  },
  {
   "cell_type": "markdown",
   "id": "7c6e8bc2",
   "metadata": {},
   "source": [
    "<div class=\"alert alert-block alert-warning\">\n",
    "<b>Note:</b> As of Oct 7th, the SAM GUI version corresponds to the 'patch' branch. This has a more updated version of the CEC csv. This might not be necessary or might change later on\n",
    "</div>\n"
   ]
  },
  {
   "cell_type": "code",
   "execution_count": 76,
   "id": "aeae6e84",
   "metadata": {},
   "outputs": [],
   "source": [
    "#url = 'https://raw.githubusercontent.com/NREL/SAM/master/deploy/libraries/CEC%20Modules.csv'\n",
    "#url = 'https://raw.githubusercontent.com/NREL/SAM/develop/deploy/libraries/CEC%20Modules.csv'\n",
    "#url = 'https://raw.githubusercontent.com/NREL/SAM/patch/deploy/libraries/CEC%20Modules.csv'\n",
    "#db = pd.read_csv(url, index_col=0)\n",
    "db = pvlib.pvsystem.retrieve_sam(name='CECMod').T\n",
    "\n",
    "modfilter1 = db.index.str.startswith('SANYO') & db.index.str.endswith('VBHN325SA16')\n",
    "modfilter2 = db.index.str.startswith('Canadian') & db.index.str.endswith('CS6K_275M')\n",
    "modfilter35 = db.index.str.startswith('Trina') & db.index.str.contains('305DD05A_05_')\n",
    "modfilter46 = db.index.str.startswith('Trina') & db.index.str.contains('295DEG5C')\n",
    "\n",
    "mymod1 = db[modfilter1]\n",
    "mymod2 = db[modfilter2]\n",
    "mymod35 = db[modfilter35]\n",
    "mymod46 = db[modfilter46]\n"
   ]
  },
  {
   "cell_type": "code",
   "execution_count": 78,
   "id": "333a07cc",
   "metadata": {},
   "outputs": [],
   "source": [
    "from pvlib.temperature import TEMPERATURE_MODEL_PARAMETERS\n",
    "tpm1235 = ( TEMPERATURE_MODEL_PARAMETERS['sapm']['open_rack_glass_polymer']) # temperature_model_parameters\n",
    "tpm46 = ( TEMPERATURE_MODEL_PARAMETERS['sapm']['open_rack_glass_glass']) # temperature_model_parameters"
   ]
  },
  {
   "cell_type": "code",
   "execution_count": 79,
   "id": "26628ca9",
   "metadata": {},
   "outputs": [],
   "source": [
    "df['S1_celltemp'] = pvlib.temperature.sapm_cell(df.S1_Gfront, df.ABQ_TEMP, df.ABQ_WSPD, tpm1235['a'], tpm1235['b'], tpm1235['deltaT'])\n",
    "df['S2_celltemp'] = pvlib.temperature.sapm_cell(df.S1_Gfront, df.ABQ_TEMP, df.ABQ_WSPD, tpm1235['a'], tpm1235['b'], tpm1235['deltaT'])\n",
    "df['S3_celltemp'] = pvlib.temperature.sapm_cell(df.S3_Gfront, df.RSK_TEMP, df.RSK_WSPD, tpm1235['a'], tpm1235['b'], tpm1235['deltaT'])\n",
    "df['S4_celltemp'] = pvlib.temperature.sapm_cell(df.S4_GPOAeff, df.RSK_TEMP, df.RSK_WSPD, tpm46['a'], tpm46['b'], tpm46['deltaT'])\n",
    "df['S5_celltemp'] = pvlib.temperature.sapm_cell(df.S5_Gfront, df.RSK_TEMP, df.RSK_WSPD, tpm1235['a'], tpm1235['b'], tpm1235['deltaT'])\n",
    "df['S6_celltemp'] = pvlib.temperature.sapm_cell(df.S6_GPOAeff, df.RSK_TEMP, df.RSK_WSPD, tpm46['a'], tpm46['b'], tpm46['deltaT'])\n"
   ]
  },
  {
   "cell_type": "code",
   "execution_count": 80,
   "id": "b47bde15",
   "metadata": {},
   "outputs": [],
   "source": [
    "def calculatePerformance(effective_irradiance, temp_cell, CECMod):\n",
    "    r'''\n",
    "    The module parameters are given at the reference condition. \n",
    "    Use pvlib.pvsystem.calcparams_cec() to generate the five SDM \n",
    "    parameters at your desired irradiance and temperature to use \n",
    "    with pvlib.pvsystem.singlediode() to calculate the IV curve information.:\n",
    "    \n",
    "    Inputs\n",
    "    ------\n",
    "    df : dataframe\n",
    "        Dataframe with the 'effective_irradiance' columns and 'temp_cell'\n",
    "        columns.\n",
    "    CECMod : Dict\n",
    "        Dictionary with CEC Module PArameters for the module selected. Must \n",
    "        contain at minimum  alpha_sc, a_ref, I_L_ref, I_o_ref, R_sh_ref,\n",
    "        R_s, Adjust\n",
    "    '''\n",
    "    \n",
    "    IL, I0, Rs, Rsh, nNsVth = pvlib.pvsystem.calcparams_cec(\n",
    "        effective_irradiance=effective_irradiance,\n",
    "        temp_cell=temp_cell,\n",
    "        alpha_sc=float(CECMod.alpha_sc),\n",
    "        a_ref=float(CECMod.a_ref),\n",
    "        I_L_ref=float(CECMod.I_L_ref),\n",
    "        I_o_ref=float(CECMod.I_o_ref),\n",
    "        R_sh_ref=float(CECMod.R_sh_ref),\n",
    "        R_s=float(CECMod.R_s),\n",
    "        Adjust=float(CECMod.Adjust)\n",
    "        )\n",
    "    \n",
    "    IVcurve_info = pvlib.pvsystem.singlediode(\n",
    "        photocurrent=IL,\n",
    "        saturation_current=I0,\n",
    "        resistance_series=Rs,\n",
    "        resistance_shunt=Rsh,\n",
    "        nNsVth=nNsVth \n",
    "        )\n",
    "    \n",
    "    return IVcurve_info['p_mp']\n"
   ]
  },
  {
   "cell_type": "code",
   "execution_count": 82,
   "id": "a82647c8",
   "metadata": {},
   "outputs": [],
   "source": [
    "df['S1_dcP'] = calculatePerformance(df.S1_Gfront, df.S2_celltemp, mymod2)\n",
    "df['S2_dcP'] = calculatePerformance(df.S1_Gfront, df.S2_celltemp, mymod2)\n",
    "df['S3_dcP'] = calculatePerformance(df.S3_Gfront, df.S3_celltemp, mymod35)\n",
    "df['S4_dcP'] = calculatePerformance(df.S4_GPOAeff, df.S4_celltemp, mymod46)\n",
    "df['S5_dcP'] = calculatePerformance(df.S5_Gfront, df.S5_celltemp, mymod35)\n",
    "df['S6_dcP'] = calculatePerformance(df.S6_GPOAeff, df.S6_celltemp, mymod46)"
   ]
  },
  {
   "cell_type": "code",
   "execution_count": 83,
   "id": "f01cfe9e",
   "metadata": {},
   "outputs": [],
   "source": [
    "df['S1_dcP'] = df['S1_dcP']*12\n",
    "df['S2_dcP'] = df['S2_dcP']*12\n",
    "df['S3_dcP'] = df['S3_dcP']*88\n",
    "df['S4_dcP'] = df['S4_dcP']*88*(1-0.00153) # Yearly Front and Rear Mismatch Loss\n",
    "df['S5_dcP'] = df['S5_dcP']*88\n",
    "df['S6_dcP'] = df['S6_dcP']*88*(1-0.021)  # Yearly Front and Rear Mismatch Loss"
   ]
  },
  {
   "cell_type": "code",
   "execution_count": 84,
   "id": "912b705a",
   "metadata": {},
   "outputs": [],
   "source": [
    "df = df.reindex(columns=sorted(df.columns)).fillna(0)"
   ]
  },
  {
   "cell_type": "code",
   "execution_count": 85,
   "id": "1a2a3ddc",
   "metadata": {
    "scrolled": true
   },
   "outputs": [],
   "source": [
    "df.to_csv('bifacialVFresults.csv')"
   ]
  },
  {
   "cell_type": "code",
   "execution_count": 86,
   "id": "0d2bf805",
   "metadata": {},
   "outputs": [
    {
     "data": {
      "text/html": [
       "<div>\n",
       "<style scoped>\n",
       "    .dataframe tbody tr th:only-of-type {\n",
       "        vertical-align: middle;\n",
       "    }\n",
       "\n",
       "    .dataframe tbody tr th {\n",
       "        vertical-align: top;\n",
       "    }\n",
       "\n",
       "    .dataframe thead th {\n",
       "        text-align: right;\n",
       "    }\n",
       "</style>\n",
       "<table border=\"1\" class=\"dataframe\">\n",
       "  <thead>\n",
       "    <tr style=\"text-align: right;\">\n",
       "      <th></th>\n",
       "      <th>ABQ_DNI</th>\n",
       "      <th>ABQ_TEMP</th>\n",
       "      <th>ABQ_Timestamp</th>\n",
       "      <th>ABQ_WSPD</th>\n",
       "      <th>RSK_DNI</th>\n",
       "      <th>RSK_TEMP</th>\n",
       "      <th>RSK_Timestamp</th>\n",
       "      <th>RSK_WSPD</th>\n",
       "      <th>S1_Gfront</th>\n",
       "      <th>S1_celltemp</th>\n",
       "      <th>...</th>\n",
       "      <th>S4_celltemp</th>\n",
       "      <th>S4_dcP</th>\n",
       "      <th>S5_Gfront</th>\n",
       "      <th>S5_celltemp</th>\n",
       "      <th>S5_dcP</th>\n",
       "      <th>S6_GPOAeff</th>\n",
       "      <th>S6_Gfront</th>\n",
       "      <th>S6_Grear</th>\n",
       "      <th>S6_celltemp</th>\n",
       "      <th>S6_dcP</th>\n",
       "    </tr>\n",
       "  </thead>\n",
       "  <tbody>\n",
       "    <tr>\n",
       "      <th>0</th>\n",
       "      <td>0.000000</td>\n",
       "      <td>0.000000</td>\n",
       "      <td>2019-01-01 01:00:00-07:00</td>\n",
       "      <td>0.000000</td>\n",
       "      <td>0.000000</td>\n",
       "      <td>0.000000</td>\n",
       "      <td>2020-01-01 01:00:00</td>\n",
       "      <td>0.000000</td>\n",
       "      <td>0.000000</td>\n",
       "      <td>0.000000</td>\n",
       "      <td>...</td>\n",
       "      <td>0.000000</td>\n",
       "      <td>0.000000</td>\n",
       "      <td>0.000000</td>\n",
       "      <td>0.000000</td>\n",
       "      <td>0.000000</td>\n",
       "      <td>0.000000</td>\n",
       "      <td>0.000000</td>\n",
       "      <td>0.000000</td>\n",
       "      <td>0.000000</td>\n",
       "      <td>0.000000</td>\n",
       "    </tr>\n",
       "    <tr>\n",
       "      <th>1</th>\n",
       "      <td>0.000000</td>\n",
       "      <td>0.000000</td>\n",
       "      <td>2019-01-01 02:00:00-07:00</td>\n",
       "      <td>0.000000</td>\n",
       "      <td>0.000000</td>\n",
       "      <td>0.000000</td>\n",
       "      <td>2020-01-01 02:00:00</td>\n",
       "      <td>0.000000</td>\n",
       "      <td>0.000000</td>\n",
       "      <td>0.000000</td>\n",
       "      <td>...</td>\n",
       "      <td>0.000000</td>\n",
       "      <td>0.000000</td>\n",
       "      <td>0.000000</td>\n",
       "      <td>0.000000</td>\n",
       "      <td>0.000000</td>\n",
       "      <td>0.000000</td>\n",
       "      <td>0.000000</td>\n",
       "      <td>0.000000</td>\n",
       "      <td>0.000000</td>\n",
       "      <td>0.000000</td>\n",
       "    </tr>\n",
       "    <tr>\n",
       "      <th>2</th>\n",
       "      <td>0.000000</td>\n",
       "      <td>0.000000</td>\n",
       "      <td>2019-01-01 03:00:00-07:00</td>\n",
       "      <td>0.000000</td>\n",
       "      <td>0.000000</td>\n",
       "      <td>0.000000</td>\n",
       "      <td>2020-01-01 03:00:00</td>\n",
       "      <td>0.000000</td>\n",
       "      <td>0.000000</td>\n",
       "      <td>0.000000</td>\n",
       "      <td>...</td>\n",
       "      <td>0.000000</td>\n",
       "      <td>0.000000</td>\n",
       "      <td>0.000000</td>\n",
       "      <td>0.000000</td>\n",
       "      <td>0.000000</td>\n",
       "      <td>0.000000</td>\n",
       "      <td>0.000000</td>\n",
       "      <td>0.000000</td>\n",
       "      <td>0.000000</td>\n",
       "      <td>0.000000</td>\n",
       "    </tr>\n",
       "    <tr>\n",
       "      <th>3</th>\n",
       "      <td>0.000000</td>\n",
       "      <td>0.000000</td>\n",
       "      <td>2019-01-01 04:00:00-07:00</td>\n",
       "      <td>0.000000</td>\n",
       "      <td>0.000000</td>\n",
       "      <td>0.000000</td>\n",
       "      <td>2020-01-01 04:00:00</td>\n",
       "      <td>0.000000</td>\n",
       "      <td>0.000000</td>\n",
       "      <td>0.000000</td>\n",
       "      <td>...</td>\n",
       "      <td>0.000000</td>\n",
       "      <td>0.000000</td>\n",
       "      <td>0.000000</td>\n",
       "      <td>0.000000</td>\n",
       "      <td>0.000000</td>\n",
       "      <td>0.000000</td>\n",
       "      <td>0.000000</td>\n",
       "      <td>0.000000</td>\n",
       "      <td>0.000000</td>\n",
       "      <td>0.000000</td>\n",
       "    </tr>\n",
       "    <tr>\n",
       "      <th>4</th>\n",
       "      <td>0.000000</td>\n",
       "      <td>0.000000</td>\n",
       "      <td>2019-01-01 05:00:00-07:00</td>\n",
       "      <td>0.000000</td>\n",
       "      <td>0.000000</td>\n",
       "      <td>0.000000</td>\n",
       "      <td>2020-01-01 05:00:00</td>\n",
       "      <td>0.000000</td>\n",
       "      <td>0.000000</td>\n",
       "      <td>0.000000</td>\n",
       "      <td>...</td>\n",
       "      <td>0.000000</td>\n",
       "      <td>0.000000</td>\n",
       "      <td>0.000000</td>\n",
       "      <td>0.000000</td>\n",
       "      <td>0.000000</td>\n",
       "      <td>0.000000</td>\n",
       "      <td>0.000000</td>\n",
       "      <td>0.000000</td>\n",
       "      <td>0.000000</td>\n",
       "      <td>0.000000</td>\n",
       "    </tr>\n",
       "    <tr>\n",
       "      <th>5</th>\n",
       "      <td>0.000000</td>\n",
       "      <td>0.000000</td>\n",
       "      <td>2019-01-01 06:00:00-07:00</td>\n",
       "      <td>0.000000</td>\n",
       "      <td>0.000000</td>\n",
       "      <td>0.000000</td>\n",
       "      <td>2020-01-01 06:00:00</td>\n",
       "      <td>0.000000</td>\n",
       "      <td>0.000000</td>\n",
       "      <td>0.000000</td>\n",
       "      <td>...</td>\n",
       "      <td>0.000000</td>\n",
       "      <td>0.000000</td>\n",
       "      <td>0.000000</td>\n",
       "      <td>0.000000</td>\n",
       "      <td>0.000000</td>\n",
       "      <td>0.000000</td>\n",
       "      <td>0.000000</td>\n",
       "      <td>0.000000</td>\n",
       "      <td>0.000000</td>\n",
       "      <td>0.000000</td>\n",
       "    </tr>\n",
       "    <tr>\n",
       "      <th>6</th>\n",
       "      <td>0.000000</td>\n",
       "      <td>0.000000</td>\n",
       "      <td>2019-01-01 07:00:00-07:00</td>\n",
       "      <td>0.000000</td>\n",
       "      <td>0.000000</td>\n",
       "      <td>0.000000</td>\n",
       "      <td>2020-01-01 07:00:00</td>\n",
       "      <td>0.000000</td>\n",
       "      <td>0.000000</td>\n",
       "      <td>0.000000</td>\n",
       "      <td>...</td>\n",
       "      <td>0.000000</td>\n",
       "      <td>0.000000</td>\n",
       "      <td>0.000000</td>\n",
       "      <td>0.000000</td>\n",
       "      <td>0.000000</td>\n",
       "      <td>0.000000</td>\n",
       "      <td>0.000000</td>\n",
       "      <td>0.000000</td>\n",
       "      <td>0.000000</td>\n",
       "      <td>0.000000</td>\n",
       "    </tr>\n",
       "    <tr>\n",
       "      <th>7</th>\n",
       "      <td>264.832939</td>\n",
       "      <td>-4.737162</td>\n",
       "      <td>2019-01-01 08:00:00-07:00</td>\n",
       "      <td>1.992000</td>\n",
       "      <td>0.000000</td>\n",
       "      <td>0.000000</td>\n",
       "      <td>2020-01-01 08:00:00</td>\n",
       "      <td>0.000000</td>\n",
       "      <td>102.878433</td>\n",
       "      <td>-1.908806</td>\n",
       "      <td>...</td>\n",
       "      <td>0.000000</td>\n",
       "      <td>0.000000</td>\n",
       "      <td>0.000000</td>\n",
       "      <td>0.000000</td>\n",
       "      <td>0.000000</td>\n",
       "      <td>0.000000</td>\n",
       "      <td>0.000000</td>\n",
       "      <td>0.000000</td>\n",
       "      <td>0.000000</td>\n",
       "      <td>0.000000</td>\n",
       "    </tr>\n",
       "    <tr>\n",
       "      <th>8</th>\n",
       "      <td>754.498236</td>\n",
       "      <td>-3.652383</td>\n",
       "      <td>2019-01-01 09:00:00-07:00</td>\n",
       "      <td>1.803700</td>\n",
       "      <td>0.245348</td>\n",
       "      <td>5.780435</td>\n",
       "      <td>2020-01-01 09:00:00</td>\n",
       "      <td>3.086957</td>\n",
       "      <td>431.874704</td>\n",
       "      <td>8.371250</td>\n",
       "      <td>...</td>\n",
       "      <td>5.923580</td>\n",
       "      <td>117.494558</td>\n",
       "      <td>4.343593</td>\n",
       "      <td>5.891462</td>\n",
       "      <td>104.655868</td>\n",
       "      <td>4.694454</td>\n",
       "      <td>4.343417</td>\n",
       "      <td>0.540057</td>\n",
       "      <td>5.916122</td>\n",
       "      <td>108.933673</td>\n",
       "    </tr>\n",
       "    <tr>\n",
       "      <th>9</th>\n",
       "      <td>914.471581</td>\n",
       "      <td>-0.708700</td>\n",
       "      <td>2019-01-01 10:00:00-07:00</td>\n",
       "      <td>2.923567</td>\n",
       "      <td>1.532760</td>\n",
       "      <td>5.798333</td>\n",
       "      <td>2020-01-01 10:00:00</td>\n",
       "      <td>3.320556</td>\n",
       "      <td>700.638592</td>\n",
       "      <td>17.395391</td>\n",
       "      <td>...</td>\n",
       "      <td>6.453272</td>\n",
       "      <td>581.332238</td>\n",
       "      <td>20.339539</td>\n",
       "      <td>6.310268</td>\n",
       "      <td>527.411138</td>\n",
       "      <td>21.805907</td>\n",
       "      <td>20.330366</td>\n",
       "      <td>2.270063</td>\n",
       "      <td>6.420824</td>\n",
       "      <td>540.667284</td>\n",
       "    </tr>\n",
       "    <tr>\n",
       "      <th>10</th>\n",
       "      <td>978.551782</td>\n",
       "      <td>0.819633</td>\n",
       "      <td>2019-01-01 11:00:00-07:00</td>\n",
       "      <td>2.962067</td>\n",
       "      <td>5.311049</td>\n",
       "      <td>5.718333</td>\n",
       "      <td>2020-01-01 11:00:00</td>\n",
       "      <td>2.796944</td>\n",
       "      <td>884.105033</td>\n",
       "      <td>23.606169</td>\n",
       "      <td>...</td>\n",
       "      <td>7.116299</td>\n",
       "      <td>1239.909593</td>\n",
       "      <td>47.557323</td>\n",
       "      <td>6.957551</td>\n",
       "      <td>1277.286360</td>\n",
       "      <td>50.658513</td>\n",
       "      <td>47.500799</td>\n",
       "      <td>4.858022</td>\n",
       "      <td>7.205359</td>\n",
       "      <td>1295.849847</td>\n",
       "    </tr>\n",
       "    <tr>\n",
       "      <th>11</th>\n",
       "      <td>1006.709614</td>\n",
       "      <td>2.140700</td>\n",
       "      <td>2019-01-01 12:00:00-07:00</td>\n",
       "      <td>1.919817</td>\n",
       "      <td>0.782406</td>\n",
       "      <td>5.856667</td>\n",
       "      <td>2020-01-01 12:00:00</td>\n",
       "      <td>3.086944</td>\n",
       "      <td>981.745690</td>\n",
       "      <td>29.261590</td>\n",
       "      <td>...</td>\n",
       "      <td>8.049047</td>\n",
       "      <td>2002.656524</td>\n",
       "      <td>82.228559</td>\n",
       "      <td>7.958533</td>\n",
       "      <td>2249.287436</td>\n",
       "      <td>87.139574</td>\n",
       "      <td>82.082144</td>\n",
       "      <td>7.780661</td>\n",
       "      <td>8.375334</td>\n",
       "      <td>2264.364471</td>\n",
       "    </tr>\n",
       "  </tbody>\n",
       "</table>\n",
       "<p>12 rows × 30 columns</p>\n",
       "</div>"
      ],
      "text/plain": [
       "        ABQ_DNI  ABQ_TEMP             ABQ_Timestamp  ABQ_WSPD   RSK_DNI  \\\n",
       "0      0.000000  0.000000 2019-01-01 01:00:00-07:00  0.000000  0.000000   \n",
       "1      0.000000  0.000000 2019-01-01 02:00:00-07:00  0.000000  0.000000   \n",
       "2      0.000000  0.000000 2019-01-01 03:00:00-07:00  0.000000  0.000000   \n",
       "3      0.000000  0.000000 2019-01-01 04:00:00-07:00  0.000000  0.000000   \n",
       "4      0.000000  0.000000 2019-01-01 05:00:00-07:00  0.000000  0.000000   \n",
       "5      0.000000  0.000000 2019-01-01 06:00:00-07:00  0.000000  0.000000   \n",
       "6      0.000000  0.000000 2019-01-01 07:00:00-07:00  0.000000  0.000000   \n",
       "7    264.832939 -4.737162 2019-01-01 08:00:00-07:00  1.992000  0.000000   \n",
       "8    754.498236 -3.652383 2019-01-01 09:00:00-07:00  1.803700  0.245348   \n",
       "9    914.471581 -0.708700 2019-01-01 10:00:00-07:00  2.923567  1.532760   \n",
       "10   978.551782  0.819633 2019-01-01 11:00:00-07:00  2.962067  5.311049   \n",
       "11  1006.709614  2.140700 2019-01-01 12:00:00-07:00  1.919817  0.782406   \n",
       "\n",
       "    RSK_TEMP       RSK_Timestamp  RSK_WSPD   S1_Gfront  S1_celltemp  ...  \\\n",
       "0   0.000000 2020-01-01 01:00:00  0.000000    0.000000     0.000000  ...   \n",
       "1   0.000000 2020-01-01 02:00:00  0.000000    0.000000     0.000000  ...   \n",
       "2   0.000000 2020-01-01 03:00:00  0.000000    0.000000     0.000000  ...   \n",
       "3   0.000000 2020-01-01 04:00:00  0.000000    0.000000     0.000000  ...   \n",
       "4   0.000000 2020-01-01 05:00:00  0.000000    0.000000     0.000000  ...   \n",
       "5   0.000000 2020-01-01 06:00:00  0.000000    0.000000     0.000000  ...   \n",
       "6   0.000000 2020-01-01 07:00:00  0.000000    0.000000     0.000000  ...   \n",
       "7   0.000000 2020-01-01 08:00:00  0.000000  102.878433    -1.908806  ...   \n",
       "8   5.780435 2020-01-01 09:00:00  3.086957  431.874704     8.371250  ...   \n",
       "9   5.798333 2020-01-01 10:00:00  3.320556  700.638592    17.395391  ...   \n",
       "10  5.718333 2020-01-01 11:00:00  2.796944  884.105033    23.606169  ...   \n",
       "11  5.856667 2020-01-01 12:00:00  3.086944  981.745690    29.261590  ...   \n",
       "\n",
       "    S4_celltemp       S4_dcP  S5_Gfront  S5_celltemp       S5_dcP  S6_GPOAeff  \\\n",
       "0      0.000000     0.000000   0.000000     0.000000     0.000000    0.000000   \n",
       "1      0.000000     0.000000   0.000000     0.000000     0.000000    0.000000   \n",
       "2      0.000000     0.000000   0.000000     0.000000     0.000000    0.000000   \n",
       "3      0.000000     0.000000   0.000000     0.000000     0.000000    0.000000   \n",
       "4      0.000000     0.000000   0.000000     0.000000     0.000000    0.000000   \n",
       "5      0.000000     0.000000   0.000000     0.000000     0.000000    0.000000   \n",
       "6      0.000000     0.000000   0.000000     0.000000     0.000000    0.000000   \n",
       "7      0.000000     0.000000   0.000000     0.000000     0.000000    0.000000   \n",
       "8      5.923580   117.494558   4.343593     5.891462   104.655868    4.694454   \n",
       "9      6.453272   581.332238  20.339539     6.310268   527.411138   21.805907   \n",
       "10     7.116299  1239.909593  47.557323     6.957551  1277.286360   50.658513   \n",
       "11     8.049047  2002.656524  82.228559     7.958533  2249.287436   87.139574   \n",
       "\n",
       "    S6_Gfront  S6_Grear  S6_celltemp       S6_dcP  \n",
       "0    0.000000  0.000000     0.000000     0.000000  \n",
       "1    0.000000  0.000000     0.000000     0.000000  \n",
       "2    0.000000  0.000000     0.000000     0.000000  \n",
       "3    0.000000  0.000000     0.000000     0.000000  \n",
       "4    0.000000  0.000000     0.000000     0.000000  \n",
       "5    0.000000  0.000000     0.000000     0.000000  \n",
       "6    0.000000  0.000000     0.000000     0.000000  \n",
       "7    0.000000  0.000000     0.000000     0.000000  \n",
       "8    4.343417  0.540057     5.916122   108.933673  \n",
       "9   20.330366  2.270063     6.420824   540.667284  \n",
       "10  47.500799  4.858022     7.205359  1295.849847  \n",
       "11  82.082144  7.780661     8.375334  2264.364471  \n",
       "\n",
       "[12 rows x 30 columns]"
      ]
     },
     "execution_count": 86,
     "metadata": {},
     "output_type": "execute_result"
    }
   ],
   "source": [
    "df.head(12)"
   ]
  },
  {
   "cell_type": "code",
   "execution_count": null,
   "id": "b48a695b",
   "metadata": {},
   "outputs": [],
   "source": []
  }
 ],
 "metadata": {
  "kernelspec": {
   "display_name": "Python 3 (ipykernel)",
   "language": "python",
   "name": "python3"
  },
  "language_info": {
   "codemirror_mode": {
    "name": "ipython",
    "version": 3
   },
   "file_extension": ".py",
   "mimetype": "text/x-python",
   "name": "python",
   "nbconvert_exporter": "python",
   "pygments_lexer": "ipython3",
   "version": "3.8.8"
  }
 },
 "nbformat": 4,
 "nbformat_minor": 5
}
